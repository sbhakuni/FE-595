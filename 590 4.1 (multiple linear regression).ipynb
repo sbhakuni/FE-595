{
 "cells": [
  {
   "cell_type": "code",
   "execution_count": 5,
   "metadata": {},
   "outputs": [
    {
     "name": "stdout",
     "output_type": "stream",
     "text": [
      "dict_keys(['data', 'target', 'feature_names', 'DESCR', 'filename'])\n",
      "       CRIM       ZN     INDUS      CHAS        NOX        RM       AGE  \\\n",
      "0  0.108011  0.04642  0.020559  2.686734  17.766611  3.809865  0.000692   \n",
      "\n",
      "        DIS       RAD       TAX   PTRATIO         B     LSTAT  \n",
      "0  1.475567  0.306049  0.012335  0.952747  0.009312  0.524758  \n",
      "the features with most influence is NOX\n"
     ]
    }
   ],
   "source": [
    "# -*- coding: utf-8 -*-\n",
    "\"\"\"\n",
    "Created on Sun Nov 17 17:51:15 2019\n",
    "\n",
    "@author: bhaku\n",
    "\"\"\"\n",
    "\n",
    "\n",
    "from sklearn.datasets import load_boston\n",
    "import pandas as pd\n",
    "import numpy as np\n",
    "\n",
    "boston = load_boston()\n",
    "print(boston.keys())\n",
    "X=boston.data\n",
    "y=boston.target\n",
    "X=pd.DataFrame(X)\n",
    "y=pd.DataFrame(y)\n",
    "X.columns=(boston.feature_names)\n",
    "#standardization or normalization not necessary as Linear regression is invarient but if we used lasso or ridge regression then scaling matters\n",
    "\n",
    "from sklearn.linear_model import LinearRegression\n",
    "regressor = LinearRegression()\n",
    "regressor.fit(X, y)\n",
    "\n",
    "coefficient=np.absolute(regressor.coef_)\n",
    "features=boston.feature_names\n",
    "coeff=pd.DataFrame(coefficient,columns=features)\n",
    "print(coeff)\n",
    "print(\"the features with most influence is\",features[np.argmax(coefficient)])\n",
    "\n"
   ]
  }
 ],
 "metadata": {
  "kernelspec": {
   "display_name": "Python 3",
   "language": "python",
   "name": "python3"
  },
  "language_info": {
   "codemirror_mode": {
    "name": "ipython",
    "version": 3
   },
   "file_extension": ".py",
   "mimetype": "text/x-python",
   "name": "python",
   "nbconvert_exporter": "python",
   "pygments_lexer": "ipython3",
   "version": "3.7.1"
  }
 },
 "nbformat": 4,
 "nbformat_minor": 2
}
